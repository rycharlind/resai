{
 "cells": [
  {
   "cell_type": "code",
   "execution_count": null,
   "metadata": {},
   "outputs": [],
   "source": [
    "import os\n",
    "from getpass import getpass\n",
    "os.environ['OPENAI_API_KEY'] = getpass('OpenAI API Key:')"
   ]
  },
  {
   "cell_type": "code",
   "execution_count": 3,
   "metadata": {},
   "outputs": [],
   "source": [
    "## Init main variables\n",
    "\n",
    "root_path = \"/Users/ryanlindbeck/Development/resai/app/backend/notebooks\"\n",
    "doc_path = f\"{root_path}/documents\"\n",
    "output_path = f\"{root_path}/output\"\n",
    "db_path = f\"{root_path}/fin_1.db\""
   ]
  },
  {
   "cell_type": "code",
   "execution_count": 19,
   "metadata": {},
   "outputs": [
    {
     "name": "stdout",
     "output_type": "stream",
     "text": [
      "                            name          ttm      3/31/23      3/31/22  \\\n",
      "TotalRevenue,105             984         000\"  105,984,000  108,435,000   \n",
      "OperatingRevenue     105,984,000  105,984,000  108,435,000   87,125,000   \n",
      "CostOfRevenue,97             463         000\"   97,463,000   94,943,000   \n",
      "GrossProfit,8                521         000\"    8,521,000   13,492,000   \n",
      "OperatingExpense,40          412         000\"   40,412,000   40,431,000   \n",
      "\n",
      "                        3/31/21     3/31/20     3/31/19     3/31/18  \\\n",
      "TotalRevenue,105     87,125,000  63,838,000  56,207,000  48,403,000   \n",
      "OperatingRevenue     63,838,000  56,207,000  48,403,000  75,195,000   \n",
      "CostOfRevenue,97     69,671,000  42,190,000  42,190,000  44,608,000   \n",
      "GrossProfit,8        17,454,000   9,445,000  14,017,000   3,795,000   \n",
      "OperatingExpense,40  37,559,000  32,574,000  32,242,000  34,354,000   \n",
      "\n",
      "                        3/31/17     3/31/16  ...     3/31/01     3/31/00  \\\n",
      "TotalRevenue,105     75,195,000  96,023,000  ...  16,767,524  15,113,135   \n",
      "OperatingRevenue     96,023,000  70,530,000  ...  15,113,135  11,257,302   \n",
      "CostOfRevenue,97     64,352,000  74,041,000  ...  14,116,193  14,694,183   \n",
      "GrossProfit,8        10,843,000  21,982,000  ...   2,651,331     418,952   \n",
      "OperatingExpense,40  38,385,000  41,321,000  ...  37,046,899  19,891,666   \n",
      "\n",
      "                        3/31/99     3/31/98     3/31/97     3/31/96  \\\n",
      "TotalRevenue,105     11,257,302  15,128,812   7,174,487   7,100,000   \n",
      "OperatingRevenue     15,128,812   7,174,487   7,100,000   4,300,000   \n",
      "CostOfRevenue,97     12,020,623  14,332,712   7,507,626   5,700,000   \n",
      "GrossProfit,8          -763,321     796,100    -333,139   1,400,000   \n",
      "OperatingExpense,40  16,487,657  13,551,204  10,527,079  10,200,000   \n",
      "\n",
      "                       3/31/95    3/31/94    3/31/93    3/31/92  \n",
      "TotalRevenue,105     4,300,000  3,900,000  3,200,000  2,900,000  \n",
      "OperatingRevenue     3,900,000  3,200,000  2,900,000        NaN  \n",
      "CostOfRevenue,97     2,900,000  2,900,000  2,400,000  2,300,000  \n",
      "GrossProfit,8        1,400,000  1,000,000    800,000    600,000  \n",
      "OperatingExpense,40  9,000,000  7,200,000  5,900,000  2,700,000  \n",
      "\n",
      "[5 rows x 34 columns]\n"
     ]
    }
   ],
   "source": [
    "import pandas as pd\n",
    "\n",
    "# df = pd.read_csv(f'{root_path}/data/fin_metrics_def.csv',  quoting=2)\n",
    "df = pd.read_csv(f'{root_path}/data/amsc_annual_financials.csv',  quoting=2)\n",
    "\n",
    "# df1 = df[df['name'] == 'Total Revenue']\n",
    "\n",
    "print(df.head())\n",
    "# print(df1.head())"
   ]
  }
 ],
 "metadata": {
  "kernelspec": {
   "display_name": ".venv",
   "language": "python",
   "name": "python3"
  },
  "language_info": {
   "codemirror_mode": {
    "name": "ipython",
    "version": 3
   },
   "file_extension": ".py",
   "mimetype": "text/x-python",
   "name": "python",
   "nbconvert_exporter": "python",
   "pygments_lexer": "ipython3",
   "version": "3.11.2"
  },
  "orig_nbformat": 4
 },
 "nbformat": 4,
 "nbformat_minor": 2
}
