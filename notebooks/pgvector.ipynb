{
 "cells": [
  {
   "cell_type": "code",
   "execution_count": null,
   "metadata": {},
   "outputs": [],
   "source": [
    "import os\n",
    "from getpass import getpass\n",
    "os.environ['OPENAI_API_KEY'] = getpass('OpenAI API Key:') "
   ]
  },
  {
   "cell_type": "code",
   "execution_count": null,
   "metadata": {},
   "outputs": [],
   "source": [
    "## Init main variables\n",
    "\n",
    "root_path = \"/Users/ryanlindbeck/Development/resai/app/backend/notebooks\"\n",
    "doc_path = f\"{root_path}/documents\"\n",
    "# db_path = f\"{root_path}/db_vector_deeplake\"\n",
    "db_path = \"s3://resai/deeplake\"\n",
    "\n",
    "document_name = \"mod_5_transcript.pdf\""
   ]
  }
 ],
 "metadata": {
  "language_info": {
   "name": "python"
  },
  "orig_nbformat": 4
 },
 "nbformat": 4,
 "nbformat_minor": 2
}
