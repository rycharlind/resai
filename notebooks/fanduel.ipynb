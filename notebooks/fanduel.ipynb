{
 "cells": [
  {
   "cell_type": "code",
   "execution_count": 1,
   "metadata": {},
   "outputs": [
    {
     "name": "stdout",
     "output_type": "stream",
     "text": [
      "          version https://git-lfs.github.com/spec/v1\n",
      "0  oid sha256:0e2447034c4e57fd18f4ecd233232ad6773...\n",
      "1                                         size 33662\n",
      "Index(['version https://git-lfs.github.com/spec/v1'], dtype='object')\n"
     ]
    }
   ],
   "source": [
    "import pandas as pd\n",
    "root_path = \"/Users/ryanlindbeck/Development/resai/data\"\n",
    "roster_path = f\"{root_path}/fanduel/roster-nba-3.csv\"\n",
    "df = pd.read_csv(roster_path)\n",
    "print(df.head())\n",
    "print(df.columns)\n",
    "\n",
    "# https://www.rotowire.com/daily/nba/optimizer.php?site=FanDuel"
   ]
  },
  {
   "cell_type": "code",
   "execution_count": 2,
   "metadata": {},
   "outputs": [
    {
     "ename": "KeyError",
     "evalue": "'Injury Indicator'",
     "output_type": "error",
     "traceback": [
      "\u001b[0;31m---------------------------------------------------------------------------\u001b[0m",
      "\u001b[0;31mKeyError\u001b[0m                                  Traceback (most recent call last)",
      "File \u001b[0;32m~/Development/resai/py/.venv/lib/python3.11/site-packages/pandas/core/indexes/base.py:3791\u001b[0m, in \u001b[0;36mIndex.get_loc\u001b[0;34m(self, key)\u001b[0m\n\u001b[1;32m   3790\u001b[0m \u001b[38;5;28;01mtry\u001b[39;00m:\n\u001b[0;32m-> 3791\u001b[0m     \u001b[38;5;28;01mreturn\u001b[39;00m \u001b[38;5;28;43mself\u001b[39;49m\u001b[38;5;241;43m.\u001b[39;49m\u001b[43m_engine\u001b[49m\u001b[38;5;241;43m.\u001b[39;49m\u001b[43mget_loc\u001b[49m\u001b[43m(\u001b[49m\u001b[43mcasted_key\u001b[49m\u001b[43m)\u001b[49m\n\u001b[1;32m   3792\u001b[0m \u001b[38;5;28;01mexcept\u001b[39;00m \u001b[38;5;167;01mKeyError\u001b[39;00m \u001b[38;5;28;01mas\u001b[39;00m err:\n",
      "File \u001b[0;32mindex.pyx:152\u001b[0m, in \u001b[0;36mpandas._libs.index.IndexEngine.get_loc\u001b[0;34m()\u001b[0m\n",
      "File \u001b[0;32mindex.pyx:181\u001b[0m, in \u001b[0;36mpandas._libs.index.IndexEngine.get_loc\u001b[0;34m()\u001b[0m\n",
      "File \u001b[0;32mpandas/_libs/hashtable_class_helper.pxi:7080\u001b[0m, in \u001b[0;36mpandas._libs.hashtable.PyObjectHashTable.get_item\u001b[0;34m()\u001b[0m\n",
      "File \u001b[0;32mpandas/_libs/hashtable_class_helper.pxi:7088\u001b[0m, in \u001b[0;36mpandas._libs.hashtable.PyObjectHashTable.get_item\u001b[0;34m()\u001b[0m\n",
      "\u001b[0;31mKeyError\u001b[0m: 'Injury Indicator'",
      "\nThe above exception was the direct cause of the following exception:\n",
      "\u001b[0;31mKeyError\u001b[0m                                  Traceback (most recent call last)",
      "Cell \u001b[0;32mIn[2], line 2\u001b[0m\n\u001b[1;32m      1\u001b[0m \u001b[38;5;66;03m# Assuming 'df' is your original DataFrame\u001b[39;00m\n\u001b[0;32m----> 2\u001b[0m non_injured_roster_df \u001b[38;5;241m=\u001b[39m df[\u001b[43mdf\u001b[49m\u001b[43m[\u001b[49m\u001b[38;5;124;43m'\u001b[39;49m\u001b[38;5;124;43mInjury Indicator\u001b[39;49m\u001b[38;5;124;43m'\u001b[39;49m\u001b[43m]\u001b[49m\u001b[38;5;241m.\u001b[39misna()]\n\u001b[1;32m      4\u001b[0m \u001b[38;5;66;03m# Initial setup\u001b[39;00m\n\u001b[1;32m      5\u001b[0m top_player_ids \u001b[38;5;241m=\u001b[39m [\u001b[38;5;124m'\u001b[39m\u001b[38;5;124m96771-9646\u001b[39m\u001b[38;5;124m'\u001b[39m, \u001b[38;5;124m'\u001b[39m\u001b[38;5;124m96771-110310\u001b[39m\u001b[38;5;124m'\u001b[39m]\n",
      "File \u001b[0;32m~/Development/resai/py/.venv/lib/python3.11/site-packages/pandas/core/frame.py:3893\u001b[0m, in \u001b[0;36mDataFrame.__getitem__\u001b[0;34m(self, key)\u001b[0m\n\u001b[1;32m   3891\u001b[0m \u001b[38;5;28;01mif\u001b[39;00m \u001b[38;5;28mself\u001b[39m\u001b[38;5;241m.\u001b[39mcolumns\u001b[38;5;241m.\u001b[39mnlevels \u001b[38;5;241m>\u001b[39m \u001b[38;5;241m1\u001b[39m:\n\u001b[1;32m   3892\u001b[0m     \u001b[38;5;28;01mreturn\u001b[39;00m \u001b[38;5;28mself\u001b[39m\u001b[38;5;241m.\u001b[39m_getitem_multilevel(key)\n\u001b[0;32m-> 3893\u001b[0m indexer \u001b[38;5;241m=\u001b[39m \u001b[38;5;28;43mself\u001b[39;49m\u001b[38;5;241;43m.\u001b[39;49m\u001b[43mcolumns\u001b[49m\u001b[38;5;241;43m.\u001b[39;49m\u001b[43mget_loc\u001b[49m\u001b[43m(\u001b[49m\u001b[43mkey\u001b[49m\u001b[43m)\u001b[49m\n\u001b[1;32m   3894\u001b[0m \u001b[38;5;28;01mif\u001b[39;00m is_integer(indexer):\n\u001b[1;32m   3895\u001b[0m     indexer \u001b[38;5;241m=\u001b[39m [indexer]\n",
      "File \u001b[0;32m~/Development/resai/py/.venv/lib/python3.11/site-packages/pandas/core/indexes/base.py:3798\u001b[0m, in \u001b[0;36mIndex.get_loc\u001b[0;34m(self, key)\u001b[0m\n\u001b[1;32m   3793\u001b[0m     \u001b[38;5;28;01mif\u001b[39;00m \u001b[38;5;28misinstance\u001b[39m(casted_key, \u001b[38;5;28mslice\u001b[39m) \u001b[38;5;129;01mor\u001b[39;00m (\n\u001b[1;32m   3794\u001b[0m         \u001b[38;5;28misinstance\u001b[39m(casted_key, abc\u001b[38;5;241m.\u001b[39mIterable)\n\u001b[1;32m   3795\u001b[0m         \u001b[38;5;129;01mand\u001b[39;00m \u001b[38;5;28many\u001b[39m(\u001b[38;5;28misinstance\u001b[39m(x, \u001b[38;5;28mslice\u001b[39m) \u001b[38;5;28;01mfor\u001b[39;00m x \u001b[38;5;129;01min\u001b[39;00m casted_key)\n\u001b[1;32m   3796\u001b[0m     ):\n\u001b[1;32m   3797\u001b[0m         \u001b[38;5;28;01mraise\u001b[39;00m InvalidIndexError(key)\n\u001b[0;32m-> 3798\u001b[0m     \u001b[38;5;28;01mraise\u001b[39;00m \u001b[38;5;167;01mKeyError\u001b[39;00m(key) \u001b[38;5;28;01mfrom\u001b[39;00m \u001b[38;5;21;01merr\u001b[39;00m\n\u001b[1;32m   3799\u001b[0m \u001b[38;5;28;01mexcept\u001b[39;00m \u001b[38;5;167;01mTypeError\u001b[39;00m:\n\u001b[1;32m   3800\u001b[0m     \u001b[38;5;66;03m# If we have a listlike key, _check_indexing_error will raise\u001b[39;00m\n\u001b[1;32m   3801\u001b[0m     \u001b[38;5;66;03m#  InvalidIndexError. Otherwise we fall through and re-raise\u001b[39;00m\n\u001b[1;32m   3802\u001b[0m     \u001b[38;5;66;03m#  the TypeError.\u001b[39;00m\n\u001b[1;32m   3803\u001b[0m     \u001b[38;5;28mself\u001b[39m\u001b[38;5;241m.\u001b[39m_check_indexing_error(key)\n",
      "\u001b[0;31mKeyError\u001b[0m: 'Injury Indicator'"
     ]
    }
   ],
   "source": [
    "# Assuming 'df' is your original DataFrame\n",
    "non_injured_roster_df = df[df['Injury Indicator'].isna()]\n",
    "\n",
    "# Initial setup\n",
    "top_player_ids = ['96771-9646', '96771-110310']\n",
    "salary_cap = 60000\n",
    "\n",
    "position_requirements = {\n",
    "    'PG': 2, 'SG': 2, 'SF': 2, 'PF': 2, 'C': 1\n",
    "}\n",
    "\n",
    "# Custom sorting function based on position requirements\n",
    "def position_sort_key(pos):\n",
    "    order = ['PG', 'SG', 'SF', 'PF', 'C']\n",
    "    return order.index(pos)\n",
    "\n",
    "# Select top players\n",
    "top_players = non_injured_roster_df[non_injured_roster_df['Id'].isin(top_player_ids)]\n",
    "\n",
    "# Initialize position counts based on top players\n",
    "position_counts = {position: 0 for position in position_requirements}\n",
    "\n",
    "# Assign positions to top players and update position counts\n",
    "top_players['Chosen Position'] = top_players['Position'].apply(lambda x: x.split('/')[0])\n",
    "for pos in top_players['Chosen Position']:\n",
    "    position_counts[pos] += 1\n",
    "\n",
    "# Calculate remaining salary\n",
    "total_top_players_salary = top_players['Salary'].sum()\n",
    "remaining_salary_cap = salary_cap - total_top_players_salary\n",
    "\n",
    "# Initialize the final roster with top players\n",
    "final_roster = top_players.copy()\n",
    "\n",
    "# Remaining roster spots\n",
    "remaining_roster_spots = sum(position_requirements.values()) - len(final_roster)\n",
    "\n",
    "# Fill remaining positions\n",
    "while remaining_roster_spots > 0:\n",
    "    max_salary_per_player = remaining_salary_cap / remaining_roster_spots\n",
    "    available_players = non_injured_roster_df[(non_injured_roster_df['Salary'] <= max_salary_per_player) & \n",
    "                                              (~non_injured_roster_df['Id'].isin(final_roster['Id']))]\n",
    "\n",
    "    # Break if no available players\n",
    "    if available_players.empty:\n",
    "        break\n",
    "\n",
    "    # Select the best player based on position need and FPPG\n",
    "    best_player = None\n",
    "    best_player_score = -1\n",
    "    for _, player in available_players.iterrows():\n",
    "        for pos in player['Position'].split('/'):\n",
    "            if position_counts[pos] < position_requirements[pos]:\n",
    "                player_score = player['FPPG'] / (position_requirements[pos] - position_counts[pos])\n",
    "                if player_score > best_player_score:\n",
    "                    best_player_score = player_score\n",
    "                    best_player = player\n",
    "                    chosen_position = pos\n",
    "\n",
    "    if best_player is not None:\n",
    "        best_player_df = pd.DataFrame([best_player])\n",
    "        best_player_df['Chosen Position'] = chosen_position\n",
    "        final_roster = pd.concat([final_roster, best_player_df], ignore_index=True)\n",
    "        position_counts[chosen_position] += 1\n",
    "        remaining_salary_cap -= best_player['Salary']\n",
    "        remaining_roster_spots -= 1\n",
    "\n",
    "# Calculate total salary\n",
    "total_salary_final = final_roster['Salary'].sum()\n",
    "remaining_salary_final = salary_cap - total_salary_final\n",
    "total_fppg_final = final_roster['FPPG'].sum()\n",
    "\n",
    "# Sort the final roster by position in the order of position requirements\n",
    "final_roster_sorted = final_roster.sort_values(by='Chosen Position', key=lambda x: x.map(position_sort_key))\n",
    "\n",
    "# Display final sorted roster\n",
    "final_player_list_sorted = final_roster_sorted[['Nickname', 'Chosen Position', 'FPPG', 'Salary']]\n",
    "print(final_player_list_sorted)\n",
    "print(f\"Total Salary: {total_salary_final}\")\n",
    "print(f\"Remaining Salary: {remaining_salary_final}\")\n",
    "print(f\"Total FPPG: {total_fppg_final}\")"
   ]
  }
 ],
 "metadata": {
  "kernelspec": {
   "display_name": ".venv",
   "language": "python",
   "name": "python3"
  },
  "language_info": {
   "codemirror_mode": {
    "name": "ipython",
    "version": 3
   },
   "file_extension": ".py",
   "mimetype": "text/x-python",
   "name": "python",
   "nbconvert_exporter": "python",
   "pygments_lexer": "ipython3",
   "version": "3.11.2"
  }
 },
 "nbformat": 4,
 "nbformat_minor": 2
}
